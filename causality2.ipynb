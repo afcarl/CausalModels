{
 "cells": [
  {
   "cell_type": "code",
   "execution_count": 91,
   "metadata": {
    "collapsed": true
   },
   "outputs": [],
   "source": [
    "import os,sys\n",
    "import pandas as pd\n",
    "import numpy as np\n",
    "import causality\n",
    "import numpy\n",
    "from causality.inference.search import IC\n",
    "from causality.inference.independence_tests import RobustRegressionTest\n",
    "import matplotlib.pyplot as plt\n",
    "from causality.nonparametric.causal_reg import AdjustForDirectCauses\n",
    "from networkx import DiGraph\n",
    "import networkx as nx\n",
    "from datetime import datetime\n",
    "from anew_module import anew\n",
    "%matplotlib inline"
   ]
  },
  {
   "cell_type": "code",
   "execution_count": 105,
   "metadata": {
    "collapsed": false
   },
   "outputs": [
    {
     "data": {
      "text/plain": [
       "0.0"
      ]
     },
     "execution_count": 105,
     "metadata": {},
     "output_type": "execute_result"
    }
   ],
   "source": [
    "anew.sentiment(\"These Are Our Memories Of London's Terrorist Attacks\")['valence']"
   ]
  },
  {
   "cell_type": "code",
   "execution_count": 108,
   "metadata": {
    "collapsed": false
   },
   "outputs": [],
   "source": [
    "data = pd.read_csv('buzzfeed_facebook_statuses.csv')"
   ]
  },
  {
   "cell_type": "code",
   "execution_count": 109,
   "metadata": {
    "collapsed": false
   },
   "outputs": [
    {
     "data": {
      "text/plain": [
       "'Warning: GRAPHIC, because, ya know, birth.'"
      ]
     },
     "execution_count": 109,
     "metadata": {},
     "output_type": "execute_result"
    }
   ],
   "source": [
    "data['status_message'].iloc[1]"
   ]
  },
  {
   "cell_type": "code",
   "execution_count": 110,
   "metadata": {
    "collapsed": false
   },
   "outputs": [
    {
     "data": {
      "text/plain": [
       "Index([u'status_id', u'status_message', u'link_name', u'status_type',\n",
       "       u'status_link', u'status_published', u'num_likes', u'num_comments',\n",
       "       u'num_shares'],\n",
       "      dtype='object')"
      ]
     },
     "execution_count": 110,
     "metadata": {},
     "output_type": "execute_result"
    }
   ],
   "source": [
    "data.columns"
   ]
  },
  {
   "cell_type": "code",
   "execution_count": 111,
   "metadata": {
    "collapsed": false
   },
   "outputs": [],
   "source": [
    "data['date'] = map(lambda x: x[:10],data['status_published'])"
   ]
  },
  {
   "cell_type": "code",
   "execution_count": 112,
   "metadata": {
    "collapsed": false
   },
   "outputs": [
    {
     "data": {
      "text/plain": [
       "count     18064.000000\n",
       "mean       6091.658326\n",
       "std       15430.495934\n",
       "min           0.000000\n",
       "25%         219.000000\n",
       "50%        1733.000000\n",
       "75%        6593.500000\n",
       "max      943454.000000\n",
       "Name: num_likes, dtype: float64"
      ]
     },
     "execution_count": 112,
     "metadata": {},
     "output_type": "execute_result"
    }
   ],
   "source": [
    "(data['num_likes']).describe()"
   ]
  },
  {
   "cell_type": "code",
   "execution_count": 113,
   "metadata": {
    "collapsed": true
   },
   "outputs": [],
   "source": [
    "data[['Year','Month','Date']] = data['status_published'].apply(lambda x: pd.Series(x[:10].split('-')))"
   ]
  },
  {
   "cell_type": "code",
   "execution_count": 114,
   "metadata": {
    "collapsed": true
   },
   "outputs": [],
   "source": [
    "data = data[data['Year']=='2015']"
   ]
  },
  {
   "cell_type": "code",
   "execution_count": 115,
   "metadata": {
    "collapsed": false
   },
   "outputs": [],
   "source": [
    "data1 = data[::-1]"
   ]
  },
  {
   "cell_type": "code",
   "execution_count": 120,
   "metadata": {
    "collapsed": false
   },
   "outputs": [
    {
     "name": "stdout",
     "output_type": "stream",
     "text": [
      "243\n",
      "243\n",
      "243\n",
      "243\n",
      "243\n",
      "243\n",
      "243\n"
     ]
    }
   ],
   "source": [
    "len_month_feeds = []\n",
    "for i in range(1,8):\n",
    "    per_month = 'x'+str(i)\n",
    "    globals()[per_month] = list(data1[data1['Month'] == '0'+str(i)]['num_likes'])\n",
    "    len_month_feeds.append(len(globals()[per_month]))\n",
    "    "
   ]
  },
  {
   "cell_type": "code",
   "execution_count": 165,
   "metadata": {
    "collapsed": false
   },
   "outputs": [
    {
     "name": "stdout",
     "output_type": "stream",
     "text": [
      "373\n",
      "[703, 706, 932, 1005, 700, 634, 373]\n"
     ]
    }
   ],
   "source": [
    "min_n = min(len_month_feeds)\n",
    "print min_n\n",
    "print len_month_feeds"
   ]
  },
  {
   "cell_type": "code",
   "execution_count": 166,
   "metadata": {
    "collapsed": false
   },
   "outputs": [
    {
     "data": {
      "text/plain": [
       "[3, 4, 5, 6]"
      ]
     },
     "execution_count": 166,
     "metadata": {},
     "output_type": "execute_result"
    }
   ],
   "source": [
    "l = [1,2,3,4,5,6]\n",
    "l[-4:]"
   ]
  },
  {
   "cell_type": "code",
   "execution_count": 167,
   "metadata": {
    "collapsed": false
   },
   "outputs": [],
   "source": [
    "X = pd.DataFrame({'x1' : x1[:min_n], 'x2' : x2[:min_n], 'x3' : x3[:min_n], 'x4' : x4[:min_n], 'x5' : x5[:min_n],\\\n",
    "                 'x6' : x6[:min_n], 'x7' : x7[:min_n]})"
   ]
  },
  {
   "cell_type": "code",
   "execution_count": 168,
   "metadata": {
    "collapsed": false
   },
   "outputs": [],
   "source": [
    "variable_types = {'x1' : 'c', 'x2' : 'c', 'x3' : 'c', 'x4' : 'c', 'x5' : 'c','x6' : 'c','x7' : 'c'}\n",
    "\n",
    "# run the search\n",
    "ic_algorithm = IC(RobustRegressionTest, X, variable_types)\n",
    "graph = ic_algorithm.search()"
   ]
  },
  {
   "cell_type": "code",
   "execution_count": 169,
   "metadata": {
    "collapsed": false
   },
   "outputs": [
    {
     "data": {
      "text/plain": [
       "[('x2', 'x3', {'arrows': [], 'marked': False}),\n",
       " ('x2', 'x1', {'arrows': [], 'marked': False}),\n",
       " ('x2', 'x6', {'arrows': [], 'marked': False}),\n",
       " ('x2', 'x7', {'arrows': [], 'marked': False}),\n",
       " ('x2', 'x4', {'arrows': [], 'marked': False}),\n",
       " ('x2', 'x5', {'arrows': [], 'marked': False}),\n",
       " ('x3', 'x7', {'arrows': [], 'marked': False}),\n",
       " ('x3', 'x4', {'arrows': ['x4'], 'marked': False}),\n",
       " ('x3', 'x5', {'arrows': ['x5'], 'marked': False}),\n",
       " ('x1', 'x6', {'arrows': [], 'marked': False}),\n",
       " ('x1', 'x7', {'arrows': [], 'marked': False}),\n",
       " ('x1', 'x4', {'arrows': ['x4'], 'marked': False}),\n",
       " ('x1', 'x5', {'arrows': ['x5'], 'marked': False}),\n",
       " ('x6', 'x7', {'arrows': [], 'marked': False}),\n",
       " ('x6', 'x4', {'arrows': ['x6'], 'marked': True}),\n",
       " ('x6', 'x5', {'arrows': ['x6'], 'marked': True}),\n",
       " ('x7', 'x4', {'arrows': [], 'marked': False}),\n",
       " ('x7', 'x5', {'arrows': [], 'marked': False}),\n",
       " ('x4', 'x5', {'arrows': [], 'marked': False})]"
      ]
     },
     "execution_count": 169,
     "metadata": {},
     "output_type": "execute_result"
    }
   ],
   "source": [
    "graph.edges(data=True)"
   ]
  },
  {
   "cell_type": "code",
   "execution_count": 170,
   "metadata": {
    "collapsed": false
   },
   "outputs": [],
   "source": [
    "to_plot = map(lambda x: (x[0],x[1]) if (x[2]['arrows']!=[]) else (x[1],x[0]),graph.edges(data=True))"
   ]
  },
  {
   "cell_type": "code",
   "execution_count": 171,
   "metadata": {
    "collapsed": false
   },
   "outputs": [
    {
     "data": {
      "text/plain": [
       "[('x3', 'x2'),\n",
       " ('x1', 'x2'),\n",
       " ('x6', 'x2'),\n",
       " ('x7', 'x2'),\n",
       " ('x4', 'x2'),\n",
       " ('x5', 'x2'),\n",
       " ('x7', 'x3'),\n",
       " ('x3', 'x4'),\n",
       " ('x3', 'x5'),\n",
       " ('x6', 'x1'),\n",
       " ('x7', 'x1'),\n",
       " ('x1', 'x4'),\n",
       " ('x1', 'x5'),\n",
       " ('x7', 'x6'),\n",
       " ('x6', 'x4'),\n",
       " ('x6', 'x5'),\n",
       " ('x4', 'x7'),\n",
       " ('x5', 'x7'),\n",
       " ('x5', 'x4')]"
      ]
     },
     "execution_count": 171,
     "metadata": {},
     "output_type": "execute_result"
    }
   ],
   "source": [
    "to_plot"
   ]
  },
  {
   "cell_type": "code",
   "execution_count": 172,
   "metadata": {
    "collapsed": false
   },
   "outputs": [
    {
     "data": {
      "image/png": "[encoded data removed]",
      "text/plain": [
       "<matplotlib.figure.Figure at 0x7fd04d43da50>"
      ]
     },
     "metadata": {},
     "output_type": "display_data"
    }
   ],
   "source": [
    "from causality.nonparametric.causal_reg import AdjustForDirectCauses\n",
    "from networkx import DiGraph\n",
    "\n",
    "g = DiGraph()\n",
    "\n",
    "g.add_nodes_from(['x1','x2','x3','x4', 'x5','x6','x7'])\n",
    "g.add_edges_from([('x3', 'x2'),('x1', 'x2'),('x6', 'x2'),('x7', 'x2'),('x4', 'x2'),('x5', 'x2'),('x7', 'x3'),\\\n",
    "                  ('x3', 'x4'),('x3', 'x5'),('x6', 'x1'),('x7', 'x1'),('x1', 'x4'),('x1', 'x5'),('x7', 'x6'),\\\n",
    "                  ('x4', 'x7'),('x5', 'x7'),('x5', 'x4')])\n",
    "nx.draw(g,with_labels = True)"
   ]
  },
  {
   "cell_type": "code",
   "execution_count": null,
   "metadata": {
    "collapsed": true
   },
   "outputs": [],
   "source": []
  },
  {
   "cell_type": "code",
   "execution_count": null,
   "metadata": {
    "collapsed": true
   },
   "outputs": [],
   "source": []
  }
 ],
 "metadata": {
  "kernelspec": {
   "display_name": "Python 2",
   "language": "python",
   "name": "python2"
  },
  "language_info": {
   "codemirror_mode": {
    "name": "ipython",
    "version": 2
   },
   "file_extension": ".py",
   "mimetype": "text/x-python",
   "name": "python",
   "nbconvert_exporter": "python",
   "pygments_lexer": "ipython2",
   "version": "2.7.11"
  }
 },
 "nbformat": 4,
 "nbformat_minor": 0
}
