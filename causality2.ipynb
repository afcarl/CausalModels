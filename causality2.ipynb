{
 "cells": [
  {
   "cell_type": "code",
   "execution_count": 91,
   "metadata": {
    "collapsed": true
   },
   "outputs": [],
   "source": [
    "import os,sys\n",
    "import pandas as pd\n",
    "import numpy as np\n",
    "import causality\n",
    "import numpy\n",
    "from causality.inference.search import IC\n",
    "from causality.inference.independence_tests import RobustRegressionTest\n",
    "import matplotlib.pyplot as plt\n",
    "from causality.nonparametric.causal_reg import AdjustForDirectCauses\n",
    "from networkx import DiGraph\n",
    "import networkx as nx\n",
    "from datetime import datetime\n",
    "from anew_module import anew\n",
    "%matplotlib inline"
   ]
  },
  {
   "cell_type": "markdown",
   "metadata": {},
   "source": [
    "##### Question \n",
    "1. Does metrics from consecutive months form cause and effect pattern on each other"
   ]
  },
  {
   "cell_type": "code",
   "execution_count": 173,
   "metadata": {
    "collapsed": false
   },
   "outputs": [
    {
     "data": {
      "text/html": [
       "<div>\n",
       "<table border=\"1\" class=\"dataframe\">\n",
       "  <thead>\n",
       "    <tr style=\"text-align: right;\">\n",
       "      <th></th>\n",
       "      <th>status_id</th>\n",
       "      <th>status_message</th>\n",
       "      <th>link_name</th>\n",
       "      <th>status_type</th>\n",
       "      <th>status_link</th>\n",
       "      <th>status_published</th>\n",
       "      <th>num_likes</th>\n",
       "      <th>num_comments</th>\n",
       "      <th>num_shares</th>\n",
       "      <th>date</th>\n",
       "      <th>Year</th>\n",
       "      <th>Month</th>\n",
       "      <th>Date</th>\n",
       "    </tr>\n",
       "  </thead>\n",
       "  <tbody>\n",
       "    <tr>\n",
       "      <th>0</th>\n",
       "      <td>21898300328_10153621905210329</td>\n",
       "      <td>Went to the kitchen to grab scissors, left wit...</td>\n",
       "      <td>33 Faces Everyone With ADD Will Immediately Re...</td>\n",
       "      <td>link</td>\n",
       "      <td>http://bzfd.it/1TDdJHZ</td>\n",
       "      <td>2015-07-19 16:01:00</td>\n",
       "      <td>5253</td>\n",
       "      <td>560</td>\n",
       "      <td>2554</td>\n",
       "      <td>2015-07-19</td>\n",
       "      <td>2015</td>\n",
       "      <td>07</td>\n",
       "      <td>19</td>\n",
       "    </tr>\n",
       "    <tr>\n",
       "      <th>1</th>\n",
       "      <td>21898300328_10153750673545329</td>\n",
       "      <td>Warning: GRAPHIC, because, ya know, birth.</td>\n",
       "      <td>This Guy Recorded His Wife Giving Birth To A 1...</td>\n",
       "      <td>link</td>\n",
       "      <td>http://bzfd.it/1LgmaYc</td>\n",
       "      <td>2015-07-19 15:01:00</td>\n",
       "      <td>3408</td>\n",
       "      <td>655</td>\n",
       "      <td>1103</td>\n",
       "      <td>2015-07-19</td>\n",
       "      <td>2015</td>\n",
       "      <td>07</td>\n",
       "      <td>19</td>\n",
       "    </tr>\n",
       "    <tr>\n",
       "      <th>2</th>\n",
       "      <td>21898300328_10153723602000329</td>\n",
       "      <td>Two flower girls for the price of one!</td>\n",
       "      <td>This Adorable Dad Became The Flower Girl When ...</td>\n",
       "      <td>link</td>\n",
       "      <td>http://bzfd.it/1HW2emv</td>\n",
       "      <td>2015-07-19 14:31:01</td>\n",
       "      <td>828</td>\n",
       "      <td>24</td>\n",
       "      <td>26</td>\n",
       "      <td>2015-07-19</td>\n",
       "      <td>2015</td>\n",
       "      <td>07</td>\n",
       "      <td>19</td>\n",
       "    </tr>\n",
       "    <tr>\n",
       "      <th>3</th>\n",
       "      <td>21898300328_10153783767055329</td>\n",
       "      <td>If you can't wear a regular band on the job, o...</td>\n",
       "      <td>28 Beautiful Alternatives For People Who Can’t...</td>\n",
       "      <td>link</td>\n",
       "      <td>http://bzfd.it/1e741O1</td>\n",
       "      <td>2015-07-19 14:03:27</td>\n",
       "      <td>3495</td>\n",
       "      <td>329</td>\n",
       "      <td>709</td>\n",
       "      <td>2015-07-19</td>\n",
       "      <td>2015</td>\n",
       "      <td>07</td>\n",
       "      <td>19</td>\n",
       "    </tr>\n",
       "    <tr>\n",
       "      <th>4</th>\n",
       "      <td>21898300328_10153715516145329</td>\n",
       "      <td>Keinen Bock mehr!\\n\\n(via BuzzFeed Deutschland)</td>\n",
       "      <td>17 Menschen, die einfach aufgegeben haben</td>\n",
       "      <td>link</td>\n",
       "      <td>http://www.buzzfeed.com/philippjahner/asdfghjk...</td>\n",
       "      <td>2015-07-19 13:48:01</td>\n",
       "      <td>79</td>\n",
       "      <td>6</td>\n",
       "      <td>11</td>\n",
       "      <td>2015-07-19</td>\n",
       "      <td>2015</td>\n",
       "      <td>07</td>\n",
       "      <td>19</td>\n",
       "    </tr>\n",
       "  </tbody>\n",
       "</table>\n",
       "</div>"
      ],
      "text/plain": [
       "                       status_id  \\\n",
       "0  21898300328_10153621905210329   \n",
       "1  21898300328_10153750673545329   \n",
       "2  21898300328_10153723602000329   \n",
       "3  21898300328_10153783767055329   \n",
       "4  21898300328_10153715516145329   \n",
       "\n",
       "                                      status_message  \\\n",
       "0  Went to the kitchen to grab scissors, left wit...   \n",
       "1         Warning: GRAPHIC, because, ya know, birth.   \n",
       "2             Two flower girls for the price of one!   \n",
       "3  If you can't wear a regular band on the job, o...   \n",
       "4    Keinen Bock mehr!\\n\\n(via BuzzFeed Deutschland)   \n",
       "\n",
       "                                           link_name status_type  \\\n",
       "0  33 Faces Everyone With ADD Will Immediately Re...        link   \n",
       "1  This Guy Recorded His Wife Giving Birth To A 1...        link   \n",
       "2  This Adorable Dad Became The Flower Girl When ...        link   \n",
       "3  28 Beautiful Alternatives For People Who Can’t...        link   \n",
       "4          17 Menschen, die einfach aufgegeben haben        link   \n",
       "\n",
       "                                         status_link     status_published  \\\n",
       "0                             http://bzfd.it/1TDdJHZ  2015-07-19 16:01:00   \n",
       "1                             http://bzfd.it/1LgmaYc  2015-07-19 15:01:00   \n",
       "2                             http://bzfd.it/1HW2emv  2015-07-19 14:31:01   \n",
       "3                             http://bzfd.it/1e741O1  2015-07-19 14:03:27   \n",
       "4  http://www.buzzfeed.com/philippjahner/asdfghjk...  2015-07-19 13:48:01   \n",
       "\n",
       "   num_likes  num_comments  num_shares        date  Year Month Date  \n",
       "0       5253           560        2554  2015-07-19  2015    07   19  \n",
       "1       3408           655        1103  2015-07-19  2015    07   19  \n",
       "2        828            24          26  2015-07-19  2015    07   19  \n",
       "3       3495           329         709  2015-07-19  2015    07   19  \n",
       "4         79             6          11  2015-07-19  2015    07   19  "
      ]
     },
     "execution_count": 173,
     "metadata": {},
     "output_type": "execute_result"
    }
   ],
   "source": [
    "data.head()"
   ]
  },
  {
   "cell_type": "markdown",
   "metadata": {},
   "source": [
    "#### Data\n",
    "Data can be found on https://www.reddit.com/r/datasets/comments/3es1s4/33k_nytimes_and_18k_buzzfeed_facebook_posts_and_a/\n",
    "\n",
    "Not the best ones - if you can find better for causal analysis - except for randomised standard data - let me\n",
    "know too."
   ]
  },
  {
   "cell_type": "code",
   "execution_count": 108,
   "metadata": {
    "collapsed": false
   },
   "outputs": [],
   "source": [
    "data = pd.read_csv('buzzfeed_facebook_statuses.csv')"
   ]
  },
  {
   "cell_type": "code",
   "execution_count": 110,
   "metadata": {
    "collapsed": false
   },
   "outputs": [
    {
     "data": {
      "text/plain": [
       "Index([u'status_id', u'status_message', u'link_name', u'status_type',\n",
       "       u'status_link', u'status_published', u'num_likes', u'num_comments',\n",
       "       u'num_shares'],\n",
       "      dtype='object')"
      ]
     },
     "execution_count": 110,
     "metadata": {},
     "output_type": "execute_result"
    }
   ],
   "source": [
    "data.columns"
   ]
  },
  {
   "cell_type": "code",
   "execution_count": 112,
   "metadata": {
    "collapsed": false
   },
   "outputs": [
    {
     "data": {
      "text/plain": [
       "count     18064.000000\n",
       "mean       6091.658326\n",
       "std       15430.495934\n",
       "min           0.000000\n",
       "25%         219.000000\n",
       "50%        1733.000000\n",
       "75%        6593.500000\n",
       "max      943454.000000\n",
       "Name: num_likes, dtype: float64"
      ]
     },
     "execution_count": 112,
     "metadata": {},
     "output_type": "execute_result"
    }
   ],
   "source": [
    "(data['num_likes']).describe()"
   ]
  },
  {
   "cell_type": "code",
   "execution_count": 113,
   "metadata": {
    "collapsed": true
   },
   "outputs": [],
   "source": [
    "data[['Year','Month','Date']] = data['status_published'].apply(lambda x: pd.Series(x[:10].split('-')))"
   ]
  },
  {
   "cell_type": "code",
   "execution_count": 180,
   "metadata": {
    "collapsed": true
   },
   "outputs": [],
   "source": [
    "# take data only from the year 2015 and invert it - so is starts with the first day of 2015 in Jan\n",
    "data1 = data[data['Year']=='2015'][::-1]"
   ]
  },
  {
   "cell_type": "code",
   "execution_count": 181,
   "metadata": {
    "collapsed": false
   },
   "outputs": [],
   "source": [
    "len_month_feeds = []\n",
    "for i in range(1,8):\n",
    "    # the feeds for all the rest months in the year are 0 in this data\n",
    "    per_month = 'x'+str(i)\n",
    "    globals()[per_month] = list(data1[data1['Month'] == '0'+str(i)]['num_likes'])\n",
    "    len_month_feeds.append(len(globals()[per_month]))\n",
    "    "
   ]
  },
  {
   "cell_type": "code",
   "execution_count": 184,
   "metadata": {
    "collapsed": false
   },
   "outputs": [
    {
     "name": "stdout",
     "output_type": "stream",
     "text": [
      "373\n",
      "[703, 706, 932, 1005, 700, 634, 373]\n"
     ]
    }
   ],
   "source": [
    "# Just to have an equal length dataframe\n",
    "# This would mean we only take a definite number of feeds from the start of the month\n",
    "# This is not a correct way to check for causality as it forms the \n",
    "# directed graph with missing data in time and feeds\n",
    "# But we proceed to try with RLM just to experiment \n",
    "min_n = min(len_month_feeds)\n",
    "print min_n\n",
    "print len_month_feeds"
   ]
  },
  {
   "cell_type": "code",
   "execution_count": 185,
   "metadata": {
    "collapsed": false
   },
   "outputs": [],
   "source": [
    "X = pd.DataFrame({'x1' : x1[:min_n], 'x2' : x2[:min_n], 'x3' : x3[:min_n], 'x4' : x4[:min_n], 'x5' : x5[:min_n],\\\n",
    "                 'x6' : x6[:min_n], 'x7' : x7[:min_n]})"
   ]
  },
  {
   "cell_type": "code",
   "execution_count": 186,
   "metadata": {
    "collapsed": false
   },
   "outputs": [],
   "source": [
    "variable_types = {'x1' : 'c', 'x2' : 'c', 'x3' : 'c', 'x4' : 'c', 'x5' : 'c','x6' : 'c','x7' : 'c'}\n",
    "\n",
    "# run the search\n",
    "ic_algorithm = IC(RobustRegressionTest, X, variable_types)\n",
    "graph = ic_algorithm.search()"
   ]
  },
  {
   "cell_type": "code",
   "execution_count": 187,
   "metadata": {
    "collapsed": false
   },
   "outputs": [
    {
     "data": {
      "text/plain": [
       "[('x2', 'x3', {'arrows': [], 'marked': False}),\n",
       " ('x2', 'x1', {'arrows': [], 'marked': False}),\n",
       " ('x2', 'x6', {'arrows': [], 'marked': False}),\n",
       " ('x2', 'x7', {'arrows': [], 'marked': False}),\n",
       " ('x2', 'x4', {'arrows': [], 'marked': False}),\n",
       " ('x2', 'x5', {'arrows': [], 'marked': False}),\n",
       " ('x3', 'x7', {'arrows': [], 'marked': False}),\n",
       " ('x3', 'x4', {'arrows': ['x4'], 'marked': False}),\n",
       " ('x3', 'x5', {'arrows': ['x5'], 'marked': False}),\n",
       " ('x1', 'x6', {'arrows': [], 'marked': False}),\n",
       " ('x1', 'x7', {'arrows': [], 'marked': False}),\n",
       " ('x1', 'x4', {'arrows': ['x4'], 'marked': False}),\n",
       " ('x1', 'x5', {'arrows': ['x5'], 'marked': False}),\n",
       " ('x6', 'x7', {'arrows': [], 'marked': False}),\n",
       " ('x6', 'x4', {'arrows': ['x6'], 'marked': True}),\n",
       " ('x6', 'x5', {'arrows': ['x6'], 'marked': True}),\n",
       " ('x7', 'x4', {'arrows': [], 'marked': False}),\n",
       " ('x7', 'x5', {'arrows': [], 'marked': False}),\n",
       " ('x4', 'x5', {'arrows': [], 'marked': False})]"
      ]
     },
     "execution_count": 187,
     "metadata": {},
     "output_type": "execute_result"
    }
   ],
   "source": [
    "graph.edges(data=True)"
   ]
  },
  {
   "cell_type": "code",
   "execution_count": 188,
   "metadata": {
    "collapsed": true
   },
   "outputs": [],
   "source": [
    "# This gives true causal inference between the month (april and june) and (may and june)\n",
    "# In a sense they form a subset collider\n",
    "# not a true collider as they have other parent nodes too"
   ]
  },
  {
   "cell_type": "code",
   "execution_count": 189,
   "metadata": {
    "collapsed": false
   },
   "outputs": [],
   "source": [
    "to_plot = map(lambda x: (x[0],x[1]) if (x[2]['arrows']!=[]) else (x[1],x[0]),graph.edges(data=True))"
   ]
  },
  {
   "cell_type": "code",
   "execution_count": 190,
   "metadata": {
    "collapsed": false
   },
   "outputs": [
    {
     "data": {
      "text/plain": [
       "[('x3', 'x2'),\n",
       " ('x1', 'x2'),\n",
       " ('x6', 'x2'),\n",
       " ('x7', 'x2'),\n",
       " ('x4', 'x2'),\n",
       " ('x5', 'x2'),\n",
       " ('x7', 'x3'),\n",
       " ('x3', 'x4'),\n",
       " ('x3', 'x5'),\n",
       " ('x6', 'x1'),\n",
       " ('x7', 'x1'),\n",
       " ('x1', 'x4'),\n",
       " ('x1', 'x5'),\n",
       " ('x7', 'x6'),\n",
       " ('x6', 'x4'),\n",
       " ('x6', 'x5'),\n",
       " ('x4', 'x7'),\n",
       " ('x5', 'x7'),\n",
       " ('x5', 'x4')]"
      ]
     },
     "execution_count": 190,
     "metadata": {},
     "output_type": "execute_result"
    }
   ],
   "source": [
    "to_plot"
   ]
  },
  {
   "cell_type": "code",
   "execution_count": 191,
   "metadata": {
    "collapsed": false
   },
   "outputs": [
    {
     "data": {
      "image/png": "[encoded data removed]",
      "text/plain": [
       "<matplotlib.figure.Figure at 0x7fd051059310>"
      ]
     },
     "metadata": {},
     "output_type": "display_data"
    }
   ],
   "source": [
    "from causality.nonparametric.causal_reg import AdjustForDirectCauses\n",
    "from networkx import DiGraph\n",
    "\n",
    "g = DiGraph()\n",
    "\n",
    "g.add_nodes_from(['x1','x2','x3','x4', 'x5','x6','x7'])\n",
    "g.add_edges_from([('x3', 'x2'),('x1', 'x2'),('x6', 'x2'),('x7', 'x2'),('x4', 'x2'),('x5', 'x2'),('x7', 'x3'),\\\n",
    "                  ('x3', 'x4'),('x3', 'x5'),('x6', 'x1'),('x7', 'x1'),('x1', 'x4'),('x1', 'x5'),('x7', 'x6'),\\\n",
    "                  ('x4', 'x7'),('x5', 'x7'),('x5', 'x4')])\n",
    "nx.draw(g,with_labels = True)"
   ]
  },
  {
   "cell_type": "code",
   "execution_count": 192,
   "metadata": {
    "collapsed": true
   },
   "outputs": [],
   "source": [
    "# Not the best way for an analysis - but playing around for now"
   ]
  },
  {
   "cell_type": "code",
   "execution_count": null,
   "metadata": {
    "collapsed": true
   },
   "outputs": [],
   "source": []
  }
 ],
 "metadata": {
  "kernelspec": {
   "display_name": "Python 2",
   "language": "python",
   "name": "python2"
  },
  "language_info": {
   "codemirror_mode": {
    "name": "ipython",
    "version": 2
   },
   "file_extension": ".py",
   "mimetype": "text/x-python",
   "name": "python",
   "nbconvert_exporter": "python",
   "pygments_lexer": "ipython2",
   "version": "2.7.11"
  }
 },
 "nbformat": 4,
 "nbformat_minor": 0
}
